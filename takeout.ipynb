{
 "cells": [
  {
   "cell_type": "markdown",
   "metadata": {},
   "source": [
    "# Takeout Sales "
   ]
  },
  {
   "cell_type": "code",
   "execution_count": 1,
   "metadata": {},
   "outputs": [],
   "source": [
    "#!pip install pandas\n",
    "#!pip install kaggle\n",
    "\n",
    "#zipfile, sys, and importlib comes installed with base version of Python"
   ]
  },
  {
   "cell_type": "markdown",
   "metadata": {},
   "source": [
    "Kaggle API Documentation (to download dataset): https://www.kaggle.com/docs/api"
   ]
  },
  {
   "cell_type": "code",
   "execution_count": 2,
   "metadata": {},
   "outputs": [
    {
     "name": "stdout",
     "output_type": "stream",
     "text": [
      "Python Version: 3.12.0 (tags/v3.12.0:0fb18b0, Oct  2 2023, 13:03:39) [MSC v.1935 64 bit (AMD64)]\n",
      "Kaggle Module Version:  1.6.17\n",
      "Kaggle Module Version:  2.1.3\n"
     ]
    }
   ],
   "source": [
    "# Modules + Versions\n",
    "\n",
    "from importlib.metadata import version #Check Module Versions\n",
    "import sys #Check Python Version\n",
    "\n",
    "import kaggle #dataset download (API)\n",
    "import zipfile #unzip dataset \n",
    "import pandas as pd\n",
    "\n",
    "print(\"Python Version:\", sys.version)\n",
    "print(\"Kaggle Module Version: \", version('kaggle'))\n",
    "print(\"Kaggle Module Version: \", version('pandas'))"
   ]
  },
  {
   "cell_type": "code",
   "execution_count": 3,
   "metadata": {},
   "outputs": [
    {
     "name": "stdout",
     "output_type": "stream",
     "text": [
      "Dataset URL: https://www.kaggle.com/datasets/henslersoftware/19560-indian-takeaway-orders\n",
      "License(s): copyright-authors\n",
      "Downloading 19560-indian-takeaway-orders.zip to c:\\Users\\brend\\Desktop\\takeout-sales\n",
      "\n"
     ]
    },
    {
     "name": "stderr",
     "output_type": "stream",
     "text": [
      "\n",
      "  0%|          | 0.00/1.31M [00:00<?, ?B/s]\n",
      " 76%|███████▌  | 1.00M/1.31M [00:00<00:00, 3.27MB/s]\n",
      "100%|██████████| 1.31M/1.31M [00:00<00:00, 4.02MB/s]\n"
     ]
    }
   ],
   "source": [
    "# download dataset (w/ Kaggle API)\n",
    "!kaggle datasets download -d henslersoftware/19560-indian-takeaway-orders"
   ]
  },
  {
   "cell_type": "code",
   "execution_count": 4,
   "metadata": {},
   "outputs": [],
   "source": [
    "# extract zip file to 'data' folder\n",
    "zip_name = '19560-indian-takeaway-orders.zip'\n",
    "with zipfile.ZipFile(zip_name, 'r') as file:\n",
    "    file.extractall('data')"
   ]
  },
  {
   "cell_type": "code",
   "execution_count": 55,
   "metadata": {},
   "outputs": [],
   "source": [
    "# load restaurant data into two dataframes - restaurant A and restaurant B\n",
    "rest_A = pd.read_csv('data/restaurant-1-orders.csv')\n",
    "rest_B = pd.read_csv('data/restaurant-2-orders.csv')"
   ]
  },
  {
   "cell_type": "code",
   "execution_count": 56,
   "metadata": {},
   "outputs": [
    {
     "name": "stdout",
     "output_type": "stream",
     "text": [
      "Order Number      0\n",
      "Order Date        0\n",
      "Item Name         0\n",
      "Quantity          0\n",
      "Product Price     0\n",
      "Total products    0\n",
      "dtype: int64\n",
      "Order ID          0\n",
      "Order Date        0\n",
      "Item Name         0\n",
      "Quantity          0\n",
      "Product Price     0\n",
      "Total products    0\n",
      "dtype: int64\n"
     ]
    }
   ],
   "source": [
    "#Check for null values\n",
    "print(rest_A.isnull().sum())\n",
    "print(rest_B.isnull().sum())"
   ]
  },
  {
   "cell_type": "code",
   "execution_count": 57,
   "metadata": {},
   "outputs": [
    {
     "name": "stdout",
     "output_type": "stream",
     "text": [
      "<class 'pandas.core.frame.DataFrame'>\n",
      "RangeIndex: 74818 entries, 0 to 74817\n",
      "Data columns (total 6 columns):\n",
      " #   Column          Non-Null Count  Dtype  \n",
      "---  ------          --------------  -----  \n",
      " 0   Order Number    74818 non-null  int64  \n",
      " 1   Order Date      74818 non-null  object \n",
      " 2   Item Name       74818 non-null  object \n",
      " 3   Quantity        74818 non-null  int64  \n",
      " 4   Product Price   74818 non-null  float64\n",
      " 5   Total products  74818 non-null  int64  \n",
      "dtypes: float64(1), int64(3), object(2)\n",
      "memory usage: 3.4+ MB\n",
      "<class 'pandas.core.frame.DataFrame'>\n",
      "RangeIndex: 119183 entries, 0 to 119182\n",
      "Data columns (total 6 columns):\n",
      " #   Column          Non-Null Count   Dtype  \n",
      "---  ------          --------------   -----  \n",
      " 0   Order ID        119183 non-null  int64  \n",
      " 1   Order Date      119183 non-null  object \n",
      " 2   Item Name       119183 non-null  object \n",
      " 3   Quantity        119183 non-null  int64  \n",
      " 4   Product Price   119183 non-null  float64\n",
      " 5   Total products  119183 non-null  int64  \n",
      "dtypes: float64(1), int64(3), object(2)\n",
      "memory usage: 5.5+ MB\n"
     ]
    }
   ],
   "source": [
    "# check data types\n",
    "rest_A.info()\n",
    "rest_B.info()"
   ]
  },
  {
   "cell_type": "code",
   "execution_count": 58,
   "metadata": {},
   "outputs": [
    {
     "name": "stdout",
     "output_type": "stream",
     "text": [
      "<class 'str'>\n",
      "<class 'str'>\n"
     ]
    },
    {
     "data": {
      "text/html": [
       "<div>\n",
       "<style scoped>\n",
       "    .dataframe tbody tr th:only-of-type {\n",
       "        vertical-align: middle;\n",
       "    }\n",
       "\n",
       "    .dataframe tbody tr th {\n",
       "        vertical-align: top;\n",
       "    }\n",
       "\n",
       "    .dataframe thead th {\n",
       "        text-align: right;\n",
       "    }\n",
       "</style>\n",
       "<table border=\"1\" class=\"dataframe\">\n",
       "  <thead>\n",
       "    <tr style=\"text-align: right;\">\n",
       "      <th></th>\n",
       "      <th>Order Number</th>\n",
       "      <th>Order Date</th>\n",
       "      <th>Item Name</th>\n",
       "      <th>Quantity</th>\n",
       "      <th>Product Price</th>\n",
       "      <th>Total products</th>\n",
       "    </tr>\n",
       "  </thead>\n",
       "  <tbody>\n",
       "    <tr>\n",
       "      <th>0</th>\n",
       "      <td>16118</td>\n",
       "      <td>03/08/2019 20:25</td>\n",
       "      <td>Plain Papadum</td>\n",
       "      <td>2</td>\n",
       "      <td>0.80</td>\n",
       "      <td>6</td>\n",
       "    </tr>\n",
       "    <tr>\n",
       "      <th>1</th>\n",
       "      <td>16118</td>\n",
       "      <td>03/08/2019 20:25</td>\n",
       "      <td>King Prawn Balti</td>\n",
       "      <td>1</td>\n",
       "      <td>12.95</td>\n",
       "      <td>6</td>\n",
       "    </tr>\n",
       "    <tr>\n",
       "      <th>2</th>\n",
       "      <td>16118</td>\n",
       "      <td>03/08/2019 20:25</td>\n",
       "      <td>Garlic Naan</td>\n",
       "      <td>1</td>\n",
       "      <td>2.95</td>\n",
       "      <td>6</td>\n",
       "    </tr>\n",
       "    <tr>\n",
       "      <th>3</th>\n",
       "      <td>16118</td>\n",
       "      <td>03/08/2019 20:25</td>\n",
       "      <td>Mushroom Rice</td>\n",
       "      <td>1</td>\n",
       "      <td>3.95</td>\n",
       "      <td>6</td>\n",
       "    </tr>\n",
       "    <tr>\n",
       "      <th>4</th>\n",
       "      <td>16118</td>\n",
       "      <td>03/08/2019 20:25</td>\n",
       "      <td>Paneer Tikka Masala</td>\n",
       "      <td>1</td>\n",
       "      <td>8.95</td>\n",
       "      <td>6</td>\n",
       "    </tr>\n",
       "  </tbody>\n",
       "</table>\n",
       "</div>"
      ],
      "text/plain": [
       "   Order Number        Order Date            Item Name  Quantity  \\\n",
       "0         16118  03/08/2019 20:25        Plain Papadum         2   \n",
       "1         16118  03/08/2019 20:25     King Prawn Balti         1   \n",
       "2         16118  03/08/2019 20:25          Garlic Naan         1   \n",
       "3         16118  03/08/2019 20:25        Mushroom Rice         1   \n",
       "4         16118  03/08/2019 20:25  Paneer Tikka Masala         1   \n",
       "\n",
       "   Product Price  Total products  \n",
       "0           0.80               6  \n",
       "1          12.95               6  \n",
       "2           2.95               6  \n",
       "3           3.95               6  \n",
       "4           8.95               6  "
      ]
     },
     "execution_count": 58,
     "metadata": {},
     "output_type": "execute_result"
    }
   ],
   "source": [
    "#Check Date column datatype\n",
    "print(type(rest_A['Order Date'].iloc[0]))\n",
    "print(type(rest_B['Order Date'].iloc[0]))\n",
    "rest_A.head()"
   ]
  },
  {
   "cell_type": "code",
   "execution_count": 60,
   "metadata": {},
   "outputs": [
    {
     "data": {
      "text/html": [
       "<div>\n",
       "<style scoped>\n",
       "    .dataframe tbody tr th:only-of-type {\n",
       "        vertical-align: middle;\n",
       "    }\n",
       "\n",
       "    .dataframe tbody tr th {\n",
       "        vertical-align: top;\n",
       "    }\n",
       "\n",
       "    .dataframe thead th {\n",
       "        text-align: right;\n",
       "    }\n",
       "</style>\n",
       "<table border=\"1\" class=\"dataframe\">\n",
       "  <thead>\n",
       "    <tr style=\"text-align: right;\">\n",
       "      <th></th>\n",
       "      <th>Order Number</th>\n",
       "      <th>Order Date</th>\n",
       "      <th>Item Name</th>\n",
       "      <th>Quantity</th>\n",
       "      <th>Product Price</th>\n",
       "      <th>Total products</th>\n",
       "    </tr>\n",
       "  </thead>\n",
       "  <tbody>\n",
       "    <tr>\n",
       "      <th>0</th>\n",
       "      <td>16118</td>\n",
       "      <td>2019-08-03 20:25:00</td>\n",
       "      <td>Plain Papadum</td>\n",
       "      <td>2</td>\n",
       "      <td>0.80</td>\n",
       "      <td>6</td>\n",
       "    </tr>\n",
       "    <tr>\n",
       "      <th>1</th>\n",
       "      <td>16118</td>\n",
       "      <td>2019-08-03 20:25:00</td>\n",
       "      <td>King Prawn Balti</td>\n",
       "      <td>1</td>\n",
       "      <td>12.95</td>\n",
       "      <td>6</td>\n",
       "    </tr>\n",
       "    <tr>\n",
       "      <th>2</th>\n",
       "      <td>16118</td>\n",
       "      <td>2019-08-03 20:25:00</td>\n",
       "      <td>Garlic Naan</td>\n",
       "      <td>1</td>\n",
       "      <td>2.95</td>\n",
       "      <td>6</td>\n",
       "    </tr>\n",
       "    <tr>\n",
       "      <th>3</th>\n",
       "      <td>16118</td>\n",
       "      <td>2019-08-03 20:25:00</td>\n",
       "      <td>Mushroom Rice</td>\n",
       "      <td>1</td>\n",
       "      <td>3.95</td>\n",
       "      <td>6</td>\n",
       "    </tr>\n",
       "    <tr>\n",
       "      <th>4</th>\n",
       "      <td>16118</td>\n",
       "      <td>2019-08-03 20:25:00</td>\n",
       "      <td>Paneer Tikka Masala</td>\n",
       "      <td>1</td>\n",
       "      <td>8.95</td>\n",
       "      <td>6</td>\n",
       "    </tr>\n",
       "  </tbody>\n",
       "</table>\n",
       "</div>"
      ],
      "text/plain": [
       "   Order Number          Order Date            Item Name  Quantity  \\\n",
       "0         16118 2019-08-03 20:25:00        Plain Papadum         2   \n",
       "1         16118 2019-08-03 20:25:00     King Prawn Balti         1   \n",
       "2         16118 2019-08-03 20:25:00          Garlic Naan         1   \n",
       "3         16118 2019-08-03 20:25:00        Mushroom Rice         1   \n",
       "4         16118 2019-08-03 20:25:00  Paneer Tikka Masala         1   \n",
       "\n",
       "   Product Price  Total products  \n",
       "0           0.80               6  \n",
       "1          12.95               6  \n",
       "2           2.95               6  \n",
       "3           3.95               6  \n",
       "4           8.95               6  "
      ]
     },
     "execution_count": 60,
     "metadata": {},
     "output_type": "execute_result"
    }
   ],
   "source": [
    "#convert Date column to date type\n",
    "rest_A['Order Date'] = pd.to_datetime(rest_A['Order Date'], format = \"%d/%m/%Y %H:%M\")\n",
    "rest_B['Order Date'] = pd.to_datetime(rest_A['Order Date'], format = \"%d/%m/%Y %H:%M\")\n",
    "rest_A.head()"
   ]
  },
  {
   "cell_type": "code",
   "execution_count": 61,
   "metadata": {},
   "outputs": [
    {
     "name": "stdout",
     "output_type": "stream",
     "text": [
      "Recorded time period for restaurant A: (Timestamp('2015-09-01 14:42:00'), Timestamp('2019-08-03 20:25:00'))\n",
      "Recorded time period for restaurant A: (Timestamp('2015-09-01 14:42:00'), Timestamp('2019-08-03 20:25:00'))\n"
     ]
    }
   ],
   "source": [
    "# Check for recorded dates in both datasets\n",
    "print(f'Recorded time period for restaurant A: {rest_A['Order Date'].min(), rest_A['Order Date'].max()}')\n",
    "print(f'Recorded time period for restaurant A: {rest_B['Order Date'].min(), rest_B['Order Date'].max()}')"
   ]
  },
  {
   "cell_type": "markdown",
   "metadata": {},
   "source": [
    "Note: will create two separate dashboards for each restaurant in Tableau."
   ]
  },
  {
   "cell_type": "code",
   "execution_count": 63,
   "metadata": {},
   "outputs": [
    {
     "data": {
      "text/html": [
       "<div>\n",
       "<style scoped>\n",
       "    .dataframe tbody tr th:only-of-type {\n",
       "        vertical-align: middle;\n",
       "    }\n",
       "\n",
       "    .dataframe tbody tr th {\n",
       "        vertical-align: top;\n",
       "    }\n",
       "\n",
       "    .dataframe thead th {\n",
       "        text-align: right;\n",
       "    }\n",
       "</style>\n",
       "<table border=\"1\" class=\"dataframe\">\n",
       "  <thead>\n",
       "    <tr style=\"text-align: right;\">\n",
       "      <th></th>\n",
       "      <th>Order ID</th>\n",
       "      <th>Order Date</th>\n",
       "      <th>Item Name</th>\n",
       "      <th>Quantity</th>\n",
       "      <th>Product Price</th>\n",
       "      <th>Total products</th>\n",
       "    </tr>\n",
       "  </thead>\n",
       "  <tbody>\n",
       "    <tr>\n",
       "      <th>0</th>\n",
       "      <td>25583</td>\n",
       "      <td>2019-08-03 20:25:00</td>\n",
       "      <td>Tandoori Mixed Grill</td>\n",
       "      <td>1</td>\n",
       "      <td>11.95</td>\n",
       "      <td>12</td>\n",
       "    </tr>\n",
       "    <tr>\n",
       "      <th>1</th>\n",
       "      <td>25583</td>\n",
       "      <td>2019-08-03 20:25:00</td>\n",
       "      <td>Madras Sauce</td>\n",
       "      <td>1</td>\n",
       "      <td>3.95</td>\n",
       "      <td>12</td>\n",
       "    </tr>\n",
       "    <tr>\n",
       "      <th>2</th>\n",
       "      <td>25583</td>\n",
       "      <td>2019-08-03 20:25:00</td>\n",
       "      <td>Mushroom Rice</td>\n",
       "      <td>2</td>\n",
       "      <td>3.95</td>\n",
       "      <td>12</td>\n",
       "    </tr>\n",
       "    <tr>\n",
       "      <th>3</th>\n",
       "      <td>25583</td>\n",
       "      <td>2019-08-03 20:25:00</td>\n",
       "      <td>Garlic Naan</td>\n",
       "      <td>1</td>\n",
       "      <td>2.95</td>\n",
       "      <td>12</td>\n",
       "    </tr>\n",
       "    <tr>\n",
       "      <th>4</th>\n",
       "      <td>25583</td>\n",
       "      <td>2019-08-03 20:25:00</td>\n",
       "      <td>Paratha</td>\n",
       "      <td>1</td>\n",
       "      <td>2.95</td>\n",
       "      <td>12</td>\n",
       "    </tr>\n",
       "  </tbody>\n",
       "</table>\n",
       "</div>"
      ],
      "text/plain": [
       "   Order ID          Order Date             Item Name  Quantity  \\\n",
       "0     25583 2019-08-03 20:25:00  Tandoori Mixed Grill         1   \n",
       "1     25583 2019-08-03 20:25:00          Madras Sauce         1   \n",
       "2     25583 2019-08-03 20:25:00         Mushroom Rice         2   \n",
       "3     25583 2019-08-03 20:25:00           Garlic Naan         1   \n",
       "4     25583 2019-08-03 20:25:00               Paratha         1   \n",
       "\n",
       "   Product Price  Total products  \n",
       "0          11.95              12  \n",
       "1           3.95              12  \n",
       "2           3.95              12  \n",
       "3           2.95              12  \n",
       "4           2.95              12  "
      ]
     },
     "execution_count": 63,
     "metadata": {},
     "output_type": "execute_result"
    }
   ],
   "source": [
    "rest_B.head()"
   ]
  },
  {
   "cell_type": "code",
   "execution_count": 64,
   "metadata": {},
   "outputs": [],
   "source": [
    "#  total_price = quantity * product_price\n",
    "rest_A['total_price'] = rest_A['Quantity'] * rest_A['Product Price']\n",
    "rest_B['total_price'] = rest_A['Quantity'] * rest_B['Product Price']"
   ]
  },
  {
   "cell_type": "code",
   "execution_count": 65,
   "metadata": {},
   "outputs": [
    {
     "data": {
      "text/html": [
       "<div>\n",
       "<style scoped>\n",
       "    .dataframe tbody tr th:only-of-type {\n",
       "        vertical-align: middle;\n",
       "    }\n",
       "\n",
       "    .dataframe tbody tr th {\n",
       "        vertical-align: top;\n",
       "    }\n",
       "\n",
       "    .dataframe thead th {\n",
       "        text-align: right;\n",
       "    }\n",
       "</style>\n",
       "<table border=\"1\" class=\"dataframe\">\n",
       "  <thead>\n",
       "    <tr style=\"text-align: right;\">\n",
       "      <th></th>\n",
       "      <th>Order Number</th>\n",
       "      <th>Order Date</th>\n",
       "      <th>Item Name</th>\n",
       "      <th>Quantity</th>\n",
       "      <th>Product Price</th>\n",
       "      <th>Total products</th>\n",
       "      <th>total_price</th>\n",
       "    </tr>\n",
       "  </thead>\n",
       "  <tbody>\n",
       "    <tr>\n",
       "      <th>0</th>\n",
       "      <td>16118</td>\n",
       "      <td>2019-08-03 20:25:00</td>\n",
       "      <td>Plain Papadum</td>\n",
       "      <td>2</td>\n",
       "      <td>0.80</td>\n",
       "      <td>6</td>\n",
       "      <td>1.60</td>\n",
       "    </tr>\n",
       "    <tr>\n",
       "      <th>1</th>\n",
       "      <td>16118</td>\n",
       "      <td>2019-08-03 20:25:00</td>\n",
       "      <td>King Prawn Balti</td>\n",
       "      <td>1</td>\n",
       "      <td>12.95</td>\n",
       "      <td>6</td>\n",
       "      <td>12.95</td>\n",
       "    </tr>\n",
       "    <tr>\n",
       "      <th>2</th>\n",
       "      <td>16118</td>\n",
       "      <td>2019-08-03 20:25:00</td>\n",
       "      <td>Garlic Naan</td>\n",
       "      <td>1</td>\n",
       "      <td>2.95</td>\n",
       "      <td>6</td>\n",
       "      <td>2.95</td>\n",
       "    </tr>\n",
       "    <tr>\n",
       "      <th>3</th>\n",
       "      <td>16118</td>\n",
       "      <td>2019-08-03 20:25:00</td>\n",
       "      <td>Mushroom Rice</td>\n",
       "      <td>1</td>\n",
       "      <td>3.95</td>\n",
       "      <td>6</td>\n",
       "      <td>3.95</td>\n",
       "    </tr>\n",
       "    <tr>\n",
       "      <th>4</th>\n",
       "      <td>16118</td>\n",
       "      <td>2019-08-03 20:25:00</td>\n",
       "      <td>Paneer Tikka Masala</td>\n",
       "      <td>1</td>\n",
       "      <td>8.95</td>\n",
       "      <td>6</td>\n",
       "      <td>8.95</td>\n",
       "    </tr>\n",
       "  </tbody>\n",
       "</table>\n",
       "</div>"
      ],
      "text/plain": [
       "   Order Number          Order Date            Item Name  Quantity  \\\n",
       "0         16118 2019-08-03 20:25:00        Plain Papadum         2   \n",
       "1         16118 2019-08-03 20:25:00     King Prawn Balti         1   \n",
       "2         16118 2019-08-03 20:25:00          Garlic Naan         1   \n",
       "3         16118 2019-08-03 20:25:00        Mushroom Rice         1   \n",
       "4         16118 2019-08-03 20:25:00  Paneer Tikka Masala         1   \n",
       "\n",
       "   Product Price  Total products  total_price  \n",
       "0           0.80               6         1.60  \n",
       "1          12.95               6        12.95  \n",
       "2           2.95               6         2.95  \n",
       "3           3.95               6         3.95  \n",
       "4           8.95               6         8.95  "
      ]
     },
     "execution_count": 65,
     "metadata": {},
     "output_type": "execute_result"
    }
   ],
   "source": [
    "rest_A.head()"
   ]
  },
  {
   "cell_type": "code",
   "execution_count": 67,
   "metadata": {},
   "outputs": [],
   "source": [
    "#rename columns\n",
    "col_names = {\n",
    "    \"Order Number\": \"order_id\",\n",
    "    \"Order Date\": \"date\",\n",
    "    \"Item Name\": \"item\"\n",
    "}\n",
    "rest_A.rename(col_names, axis = 1, inplace = True)\n",
    "rest_B.rename(col_names, axis = 1, inplace = True)"
   ]
  },
  {
   "cell_type": "code",
   "execution_count": 68,
   "metadata": {},
   "outputs": [
    {
     "data": {
      "text/html": [
       "<div>\n",
       "<style scoped>\n",
       "    .dataframe tbody tr th:only-of-type {\n",
       "        vertical-align: middle;\n",
       "    }\n",
       "\n",
       "    .dataframe tbody tr th {\n",
       "        vertical-align: top;\n",
       "    }\n",
       "\n",
       "    .dataframe thead th {\n",
       "        text-align: right;\n",
       "    }\n",
       "</style>\n",
       "<table border=\"1\" class=\"dataframe\">\n",
       "  <thead>\n",
       "    <tr style=\"text-align: right;\">\n",
       "      <th></th>\n",
       "      <th>order_id</th>\n",
       "      <th>date</th>\n",
       "      <th>item</th>\n",
       "      <th>Quantity</th>\n",
       "      <th>Product Price</th>\n",
       "      <th>Total products</th>\n",
       "      <th>total_price</th>\n",
       "    </tr>\n",
       "  </thead>\n",
       "  <tbody>\n",
       "    <tr>\n",
       "      <th>0</th>\n",
       "      <td>16118</td>\n",
       "      <td>2019-08-03 20:25:00</td>\n",
       "      <td>Plain Papadum</td>\n",
       "      <td>2</td>\n",
       "      <td>0.80</td>\n",
       "      <td>6</td>\n",
       "      <td>1.60</td>\n",
       "    </tr>\n",
       "    <tr>\n",
       "      <th>1</th>\n",
       "      <td>16118</td>\n",
       "      <td>2019-08-03 20:25:00</td>\n",
       "      <td>King Prawn Balti</td>\n",
       "      <td>1</td>\n",
       "      <td>12.95</td>\n",
       "      <td>6</td>\n",
       "      <td>12.95</td>\n",
       "    </tr>\n",
       "    <tr>\n",
       "      <th>2</th>\n",
       "      <td>16118</td>\n",
       "      <td>2019-08-03 20:25:00</td>\n",
       "      <td>Garlic Naan</td>\n",
       "      <td>1</td>\n",
       "      <td>2.95</td>\n",
       "      <td>6</td>\n",
       "      <td>2.95</td>\n",
       "    </tr>\n",
       "    <tr>\n",
       "      <th>3</th>\n",
       "      <td>16118</td>\n",
       "      <td>2019-08-03 20:25:00</td>\n",
       "      <td>Mushroom Rice</td>\n",
       "      <td>1</td>\n",
       "      <td>3.95</td>\n",
       "      <td>6</td>\n",
       "      <td>3.95</td>\n",
       "    </tr>\n",
       "    <tr>\n",
       "      <th>4</th>\n",
       "      <td>16118</td>\n",
       "      <td>2019-08-03 20:25:00</td>\n",
       "      <td>Paneer Tikka Masala</td>\n",
       "      <td>1</td>\n",
       "      <td>8.95</td>\n",
       "      <td>6</td>\n",
       "      <td>8.95</td>\n",
       "    </tr>\n",
       "  </tbody>\n",
       "</table>\n",
       "</div>"
      ],
      "text/plain": [
       "   order_id                date                 item  Quantity  Product Price  \\\n",
       "0     16118 2019-08-03 20:25:00        Plain Papadum         2           0.80   \n",
       "1     16118 2019-08-03 20:25:00     King Prawn Balti         1          12.95   \n",
       "2     16118 2019-08-03 20:25:00          Garlic Naan         1           2.95   \n",
       "3     16118 2019-08-03 20:25:00        Mushroom Rice         1           3.95   \n",
       "4     16118 2019-08-03 20:25:00  Paneer Tikka Masala         1           8.95   \n",
       "\n",
       "   Total products  total_price  \n",
       "0               6         1.60  \n",
       "1               6        12.95  \n",
       "2               6         2.95  \n",
       "3               6         3.95  \n",
       "4               6         8.95  "
      ]
     },
     "execution_count": 68,
     "metadata": {},
     "output_type": "execute_result"
    }
   ],
   "source": [
    "rest_A.head()"
   ]
  },
  {
   "cell_type": "code",
   "execution_count": 69,
   "metadata": {},
   "outputs": [
    {
     "data": {
      "text/html": [
       "<div>\n",
       "<style scoped>\n",
       "    .dataframe tbody tr th:only-of-type {\n",
       "        vertical-align: middle;\n",
       "    }\n",
       "\n",
       "    .dataframe tbody tr th {\n",
       "        vertical-align: top;\n",
       "    }\n",
       "\n",
       "    .dataframe thead th {\n",
       "        text-align: right;\n",
       "    }\n",
       "</style>\n",
       "<table border=\"1\" class=\"dataframe\">\n",
       "  <thead>\n",
       "    <tr style=\"text-align: right;\">\n",
       "      <th></th>\n",
       "      <th>Order ID</th>\n",
       "      <th>date</th>\n",
       "      <th>item</th>\n",
       "      <th>Quantity</th>\n",
       "      <th>Product Price</th>\n",
       "      <th>Total products</th>\n",
       "      <th>total_price</th>\n",
       "    </tr>\n",
       "  </thead>\n",
       "  <tbody>\n",
       "    <tr>\n",
       "      <th>0</th>\n",
       "      <td>25583</td>\n",
       "      <td>2019-08-03 20:25:00</td>\n",
       "      <td>Tandoori Mixed Grill</td>\n",
       "      <td>1</td>\n",
       "      <td>11.95</td>\n",
       "      <td>12</td>\n",
       "      <td>23.90</td>\n",
       "    </tr>\n",
       "    <tr>\n",
       "      <th>1</th>\n",
       "      <td>25583</td>\n",
       "      <td>2019-08-03 20:25:00</td>\n",
       "      <td>Madras Sauce</td>\n",
       "      <td>1</td>\n",
       "      <td>3.95</td>\n",
       "      <td>12</td>\n",
       "      <td>3.95</td>\n",
       "    </tr>\n",
       "    <tr>\n",
       "      <th>2</th>\n",
       "      <td>25583</td>\n",
       "      <td>2019-08-03 20:25:00</td>\n",
       "      <td>Mushroom Rice</td>\n",
       "      <td>2</td>\n",
       "      <td>3.95</td>\n",
       "      <td>12</td>\n",
       "      <td>3.95</td>\n",
       "    </tr>\n",
       "    <tr>\n",
       "      <th>3</th>\n",
       "      <td>25583</td>\n",
       "      <td>2019-08-03 20:25:00</td>\n",
       "      <td>Garlic Naan</td>\n",
       "      <td>1</td>\n",
       "      <td>2.95</td>\n",
       "      <td>12</td>\n",
       "      <td>2.95</td>\n",
       "    </tr>\n",
       "    <tr>\n",
       "      <th>4</th>\n",
       "      <td>25583</td>\n",
       "      <td>2019-08-03 20:25:00</td>\n",
       "      <td>Paratha</td>\n",
       "      <td>1</td>\n",
       "      <td>2.95</td>\n",
       "      <td>12</td>\n",
       "      <td>2.95</td>\n",
       "    </tr>\n",
       "  </tbody>\n",
       "</table>\n",
       "</div>"
      ],
      "text/plain": [
       "   Order ID                date                  item  Quantity  \\\n",
       "0     25583 2019-08-03 20:25:00  Tandoori Mixed Grill         1   \n",
       "1     25583 2019-08-03 20:25:00          Madras Sauce         1   \n",
       "2     25583 2019-08-03 20:25:00         Mushroom Rice         2   \n",
       "3     25583 2019-08-03 20:25:00           Garlic Naan         1   \n",
       "4     25583 2019-08-03 20:25:00               Paratha         1   \n",
       "\n",
       "   Product Price  Total products  total_price  \n",
       "0          11.95              12        23.90  \n",
       "1           3.95              12         3.95  \n",
       "2           3.95              12         3.95  \n",
       "3           2.95              12         2.95  \n",
       "4           2.95              12         2.95  "
      ]
     },
     "execution_count": 69,
     "metadata": {},
     "output_type": "execute_result"
    }
   ],
   "source": [
    "rest_B.head()"
   ]
  },
  {
   "cell_type": "code",
   "execution_count": 73,
   "metadata": {},
   "outputs": [
    {
     "data": {
      "text/plain": [
       "((74818, 7), (119183, 7))"
      ]
     },
     "execution_count": 73,
     "metadata": {},
     "output_type": "execute_result"
    }
   ],
   "source": [
    "rest_A.shape, rest_B.shape"
   ]
  },
  {
   "cell_type": "code",
   "execution_count": 71,
   "metadata": {},
   "outputs": [],
   "source": [
    "# export data\n",
    "\n",
    "rest_A.to_csv('data/restaurant_A_cleaned.csv')\n",
    "rest_B.to_csv('data/restaurant_B_cleaned.csv')"
   ]
  }
 ],
 "metadata": {
  "kernelspec": {
   "display_name": "Python 3",
   "language": "python",
   "name": "python3"
  },
  "language_info": {
   "codemirror_mode": {
    "name": "ipython",
    "version": 3
   },
   "file_extension": ".py",
   "mimetype": "text/x-python",
   "name": "python",
   "nbconvert_exporter": "python",
   "pygments_lexer": "ipython3",
   "version": "3.12.0"
  }
 },
 "nbformat": 4,
 "nbformat_minor": 2
}

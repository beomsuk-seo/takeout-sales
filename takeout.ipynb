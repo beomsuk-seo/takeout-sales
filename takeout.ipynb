{
 "cells": [
  {
   "cell_type": "markdown",
   "metadata": {},
   "source": [
    "# Takeout Sales "
   ]
  },
  {
   "cell_type": "code",
   "execution_count": 1,
   "metadata": {},
   "outputs": [],
   "source": [
    "#!pip install pandas\n",
    "#!pip install kaggle\n",
    "\n",
    "#zipfile, sys, and importlib comes installed with base version of Python"
   ]
  },
  {
   "cell_type": "markdown",
   "metadata": {},
   "source": [
    "Kaggle API Documentation (to download dataset): https://www.kaggle.com/docs/api"
   ]
  },
  {
   "cell_type": "code",
   "execution_count": 2,
   "metadata": {},
   "outputs": [
    {
     "name": "stdout",
     "output_type": "stream",
     "text": [
      "Python Version: 3.12.0 (tags/v3.12.0:0fb18b0, Oct  2 2023, 13:03:39) [MSC v.1935 64 bit (AMD64)]\n",
      "Kaggle Module Version:  1.6.17\n",
      "Kaggle Module Version:  2.1.3\n"
     ]
    }
   ],
   "source": [
    "# Modules + Versions\n",
    "\n",
    "from importlib.metadata import version #Check Module Versions\n",
    "import sys #Check Python Version\n",
    "\n",
    "import kaggle #dataset download (API)\n",
    "import zipfile #unzip dataset \n",
    "import pandas as pd\n",
    "\n",
    "print(\"Python Version:\", sys.version)\n",
    "print(\"Kaggle Module Version: \", version('kaggle'))\n",
    "print(\"Kaggle Module Version: \", version('pandas'))"
   ]
  },
  {
   "cell_type": "code",
   "execution_count": 3,
   "metadata": {},
   "outputs": [
    {
     "name": "stdout",
     "output_type": "stream",
     "text": [
      "Dataset URL: https://www.kaggle.com/datasets/henslersoftware/19560-indian-takeaway-orders\n",
      "License(s): copyright-authors\n",
      "Downloading 19560-indian-takeaway-orders.zip to c:\\Users\\brend\\Desktop\\takeout-sales\n",
      "\n"
     ]
    },
    {
     "name": "stderr",
     "output_type": "stream",
     "text": [
      "\n",
      "  0%|          | 0.00/1.31M [00:00<?, ?B/s]\n",
      " 76%|███████▌  | 1.00M/1.31M [00:00<00:00, 3.27MB/s]\n",
      "100%|██████████| 1.31M/1.31M [00:00<00:00, 4.02MB/s]\n"
     ]
    }
   ],
   "source": [
    "# download dataset (w/ Kaggle API)\n",
    "!kaggle datasets download -d henslersoftware/19560-indian-takeaway-orders"
   ]
  },
  {
   "cell_type": "code",
   "execution_count": 4,
   "metadata": {},
   "outputs": [],
   "source": [
    "# extract zip file to 'data' folder\n",
    "zip_name = '19560-indian-takeaway-orders.zip'\n",
    "with zipfile.ZipFile(zip_name, 'r') as file:\n",
    "    file.extractall('data')"
   ]
  },
  {
   "cell_type": "code",
   "execution_count": 21,
   "metadata": {},
   "outputs": [],
   "source": [
    "# load restaurant data into two dataframes - restaurant A and restaurant B\n",
    "rest_A = pd.read_csv('data/restaurant-1-orders.csv')\n",
    "rest_B = pd.read_csv('data/restaurant-2-orders.csv')"
   ]
  },
  {
   "cell_type": "code",
   "execution_count": 22,
   "metadata": {},
   "outputs": [
    {
     "name": "stdout",
     "output_type": "stream",
     "text": [
      "Recorded time period for restaurant A: ('01/01/2017 17:31', '31/12/2018 21:56')\n",
      "Recorded time period for restaurant A: ('01/01/2017 11:38', '31/12/2018 21:07')\n"
     ]
    }
   ],
   "source": [
    "# Check for recorded dates in both datasets\n",
    "print(f'Recorded time period for restaurant A: {rest_A['Order Date'].min(), rest_A['Order Date'].max()}')\n",
    "print(f'Recorded time period for restaurant A: {rest_B['Order Date'].min(), rest_B['Order Date'].max()}')"
   ]
  },
  {
   "cell_type": "markdown",
   "metadata": {},
   "source": [
    "Note: will create two separate dashboards for each restaurant in Tableau for 2017 and 2018 in each."
   ]
  },
  {
   "cell_type": "code",
   "execution_count": 32,
   "metadata": {},
   "outputs": [
    {
     "name": "stdout",
     "output_type": "stream",
     "text": [
      "Order Number      0\n",
      "Order Date        0\n",
      "Item Name         0\n",
      "Quantity          0\n",
      "Product Price     0\n",
      "Total products    0\n",
      "dtype: int64\n",
      "Order ID          0\n",
      "Order Date        0\n",
      "Item Name         0\n",
      "Quantity          0\n",
      "Product Price     0\n",
      "Total products    0\n",
      "dtype: int64\n"
     ]
    }
   ],
   "source": [
    "#Check for null values\n",
    "print(rest_A.isnull().sum())\n",
    "print(rest_B.isnull().sum())"
   ]
  },
  {
   "cell_type": "code",
   "execution_count": 43,
   "metadata": {},
   "outputs": [
    {
     "name": "stdout",
     "output_type": "stream",
     "text": [
      "<class 'pandas.core.frame.DataFrame'>\n",
      "RangeIndex: 74818 entries, 0 to 74817\n",
      "Data columns (total 6 columns):\n",
      " #   Column          Non-Null Count  Dtype  \n",
      "---  ------          --------------  -----  \n",
      " 0   Order Number    74818 non-null  int64  \n",
      " 1   Order Date      74818 non-null  object \n",
      " 2   Item Name       74818 non-null  object \n",
      " 3   Quantity        74818 non-null  int64  \n",
      " 4   Product Price   74818 non-null  float64\n",
      " 5   Total products  74818 non-null  int64  \n",
      "dtypes: float64(1), int64(3), object(2)\n",
      "memory usage: 3.4+ MB\n",
      "None\n",
      "<class 'pandas.core.frame.DataFrame'>\n",
      "RangeIndex: 119183 entries, 0 to 119182\n",
      "Data columns (total 6 columns):\n",
      " #   Column          Non-Null Count   Dtype  \n",
      "---  ------          --------------   -----  \n",
      " 0   Order ID        119183 non-null  int64  \n",
      " 1   Order Date      119183 non-null  object \n",
      " 2   Item Name       119183 non-null  object \n",
      " 3   Quantity        119183 non-null  int64  \n",
      " 4   Product Price   119183 non-null  float64\n",
      " 5   Total products  119183 non-null  int64  \n",
      "dtypes: float64(1), int64(3), object(2)\n",
      "memory usage: 5.5+ MB\n",
      "None\n"
     ]
    }
   ],
   "source": [
    "# check data types\n",
    "rest_A.info()\n",
    "rest_B.info()"
   ]
  },
  {
   "cell_type": "code",
   "execution_count": 30,
   "metadata": {},
   "outputs": [
    {
     "name": "stdout",
     "output_type": "stream",
     "text": [
      "Order Number      0\n",
      "Order Date        0\n",
      "Item Name         0\n",
      "Quantity          0\n",
      "Product Price     0\n",
      "Total products    0\n",
      "dtype: int64\n"
     ]
    }
   ],
   "source": [
    "\n"
   ]
  },
  {
   "cell_type": "code",
   "execution_count": null,
   "metadata": {},
   "outputs": [],
   "source": []
  }
 ],
 "metadata": {
  "kernelspec": {
   "display_name": "Python 3",
   "language": "python",
   "name": "python3"
  },
  "language_info": {
   "codemirror_mode": {
    "name": "ipython",
    "version": 3
   },
   "file_extension": ".py",
   "mimetype": "text/x-python",
   "name": "python",
   "nbconvert_exporter": "python",
   "pygments_lexer": "ipython3",
   "version": "3.12.0"
  }
 },
 "nbformat": 4,
 "nbformat_minor": 2
}
